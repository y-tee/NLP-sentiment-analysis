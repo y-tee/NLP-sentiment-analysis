{
 "cells": [
  {
   "cell_type": "code",
   "execution_count": null,
   "metadata": {
    "tags": [
     "outputPrepend"
    ]
   },
   "outputs": [],
   "source": [
    "import sys\n",
    "!{sys.executable} -m pip install PyPDF2 spacy gensim nltk sklearn sematch textract pdfminer tesseract"
   ]
  },
  {
   "cell_type": "code",
   "execution_count": 1,
   "metadata": {
    "tags": []
   },
   "outputs": [
    {
     "name": "stderr",
     "output_type": "stream",
     "text": [
      "[nltk_data] Downloading package punkt to /home/ytee/nltk_data...\n",
      "[nltk_data]   Package punkt is already up-to-date!\n"
     ]
    },
    {
     "data": {
      "text/plain": [
       "True"
      ]
     },
     "execution_count": 1,
     "metadata": {},
     "output_type": "execute_result"
    }
   ],
   "source": [
    "import PyPDF2\n",
    "import sematch\n",
    "import spacy\n",
    "import textract\n",
    "import nltk\n",
    "import gensim\n",
    "from nltk.tokenize import word_tokenize, sent_tokenize\n",
    "import pandas as pd\n",
    "import numpy as np\n",
    "nltk.download('punkt')"
   ]
  },
  {
   "cell_type": "code",
   "execution_count": null,
   "metadata": {},
   "outputs": [],
   "source": [
    "'''\n",
    "def get_text(inputfile,pagecount,textfilename):\n",
    "\n",
    "    #Write a for-loop to open many files (leave a comment if you'd like to learn how).\n",
    "    filename = inputfile \n",
    "    #open allows you to read the file.\n",
    "    pdfFileObj = open(filename,'rb')\n",
    "    #The pdfReader variable is a readable object that will be parsed.\n",
    "    pdfReader = PyPDF2.PdfFileReader(pdfFileObj)\n",
    "    #Discerning the number of pages will allow us to parse through all the pages.\n",
    "    num_pages = pdfReader.numPages\n",
    "    count = 0\n",
    "    text = \"\"\n",
    "    #The while loop will read each page.\n",
    "    while count < pagecount:\n",
    "        pageObj = pdfReader.getPage(count)\n",
    "        count +=1\n",
    "        text += pageObj.extractText()\n",
    "\n",
    "    with open('{}.txt'.format(textfilename), 'w') as f:\n",
    "        f.write(text)\n",
    "    #This if statement exists to check if the above library returned words. It's done because PyPDF2 cannot read scanned files.\n",
    "    #if text != \"\":\n",
    "    #   text = text\n",
    "    #If the above returns as False, we run the OCR library textract to #convert scanned/image based PDF files into text.\n",
    "    #else:\n",
    "    #text = textract.process(text, method='tesseract', language='eng')\n",
    "    #Now we have a text variable that contains all the text derived from our PDF file. Type print(text) to see what it contains. It likely contains a lot of spaces, possibly junk such as '\\n,' etc.\n",
    "    #Now, we will clean our text variable and return it as a list of keywords.\n",
    "    pdf=textract.process(\"do_re_mi.txt\", method='tesseract', language='eng')\n",
    "    return pdf\n",
    "'''"
   ]
  },
  {
   "cell_type": "code",
   "execution_count": null,
   "metadata": {},
   "outputs": [],
   "source": [
    "#pdf1=get_text('EP1191760B1edit.pdf',20,'textname')"
   ]
  },
  {
   "cell_type": "code",
   "execution_count": null,
   "metadata": {},
   "outputs": [],
   "source": [
    "#pdf2=get_text('rfc3095.txt.pdf',pdfReader.numPages,'pdf2')"
   ]
  },
  {
   "cell_type": "code",
   "execution_count": 2,
   "metadata": {
    "tags": []
   },
   "outputs": [
    {
     "name": "stdout",
     "output_type": "stream",
     "text": [
      "Number of documents: 785\n"
     ]
    }
   ],
   "source": [
    "import nltk\n",
    "import gensim\n",
    "from nltk.tokenize import word_tokenize, sent_tokenize\n",
    "import numpy as np\n",
    "\n",
    "file_docs = []\n",
    "\n",
    "with open ('pdf2.txt') as f:\n",
    "    for sentence in gensim.summarization.textcleaner.get_sentences(f.read()):\n",
    "        file_docs.append(sentence)\n",
    "\n",
    "print(\"Number of documents:\",len(file_docs))"
   ]
  },
  {
   "cell_type": "code",
   "execution_count": 25,
   "metadata": {},
   "outputs": [],
   "source": [
    "with open('nltk_eng_stopwords.txt', 'r') as f:\n",
    "    stopwords = [line.strip() for line in f]"
   ]
  },
  {
   "cell_type": "code",
   "execution_count": 27,
   "metadata": {},
   "outputs": [],
   "source": [
    "gen_docs = [[w.lower() for w in word_tokenize(text)] for text in file_docs if text not in stopwords]\n",
    "dictionary = gensim.corpora.Dictionary(gen_docs)\n",
    "corpus = [dictionary.doc2bow(gen_doc) for gen_doc in gen_docs]"
   ]
  },
  {
   "cell_type": "code",
   "execution_count": 28,
   "metadata": {
    "tags": [
     "outputPrepend"
    ]
   },
   "outputs": [],
   "source": [
    "tfidf = gensim.models.TfidfModel(corpus)"
   ]
  },
  {
   "cell_type": "code",
   "execution_count": 29,
   "metadata": {},
   "outputs": [],
   "source": [
    "from gensim.test.utils import get_tmpfile\n",
    "index_tmpfile = get_tmpfile(\"index\")\n",
    "sims = gensim.similarities.Similarity(index_tmpfile,tfidf[corpus],\n",
    "                                        num_features=len(dictionary))"
   ]
  },
  {
   "cell_type": "code",
   "execution_count": 30,
   "metadata": {
    "tags": []
   },
   "outputs": [
    {
     "name": "stdout",
     "output_type": "stream",
     "text": [
      "Number of documents: 269\n"
     ]
    }
   ],
   "source": [
    "import nltk\n",
    "import gensim\n",
    "from nltk.tokenize import word_tokenize, sent_tokenize\n",
    "import numpy as np\n",
    "\n",
    "file2_docs = []\n",
    "\n",
    "with open ('pdf1.txt') as f:\n",
    "    text=f.read()\n",
    "    text=text.replace(\"\\n\", \"\")\n",
    "    file2_docs=gensim.summarization.textcleaner.split_sentences(text)\n",
    "\n",
    "\n",
    "print(\"Number of documents:\",len(file2_docs))\n",
    "\n"
   ]
  },
  {
   "cell_type": "code",
   "execution_count": 32,
   "metadata": {},
   "outputs": [],
   "source": [
    "query_doc = [[w.lower() for w in word_tokenize(text)] for text in file2_docs if text not in stopwords]\n",
    "query_doc_bow = [dictionary.doc2bow(doc) for doc in query_doc]\n",
    "query_doc_tf_idf = tfidf[query_doc_bow]"
   ]
  },
  {
   "cell_type": "code",
   "execution_count": 33,
   "metadata": {},
   "outputs": [],
   "source": [
    "simscore=sims[query_doc_tf_idf]"
   ]
  },
  {
   "cell_type": "code",
   "execution_count": 34,
   "metadata": {},
   "outputs": [],
   "source": [
    "max_list=[]\n",
    "i=1\n",
    "N=simscore.copy()\n",
    "\n",
    "while i<20:\n",
    "    max_value, max_index = max(((x, (i, j)) for i, row in enumerate(N) for j, x in enumerate(row)))\n",
    "    file2=file2_docs[max_index[0]]\n",
    "    file1=file_docs[max_index[1]]\n",
    "    tup=(max_value, max_index,file2,file1)\n",
    "    max_list.append(tup)\n",
    "    N = [[0 if j==max_value else j for j in i] for i in N]\n",
    "    i=i+1"
   ]
  },
  {
   "cell_type": "code",
   "execution_count": 35,
   "metadata": {},
   "outputs": [],
   "source": [
    "import pandas as pd\n",
    "df=pd.DataFrame(max_list,columns=['similarity','location','file2','file'])"
   ]
  },
  {
   "cell_type": "markdown",
   "metadata": {},
   "source": [
    "file2 is EP1191760B1.pdf and file is rfc3095.txt.pdf"
   ]
  },
  {
   "cell_type": "code",
   "execution_count": 36,
   "metadata": {
    "scrolled": false
   },
   "outputs": [
    {
     "data": {
      "text/html": [
       "<div>\n",
       "<style scoped>\n",
       "    .dataframe tbody tr th:only-of-type {\n",
       "        vertical-align: middle;\n",
       "    }\n",
       "\n",
       "    .dataframe tbody tr th {\n",
       "        vertical-align: top;\n",
       "    }\n",
       "\n",
       "    .dataframe thead th {\n",
       "        text-align: right;\n",
       "    }\n",
       "</style>\n",
       "<table border=\"1\" class=\"dataframe\">\n",
       "  <thead>\n",
       "    <tr style=\"text-align: right;\">\n",
       "      <th></th>\n",
       "      <th>similarity</th>\n",
       "      <th>file2</th>\n",
       "      <th>file</th>\n",
       "    </tr>\n",
       "  </thead>\n",
       "  <tbody>\n",
       "    <tr>\n",
       "      <th>0</th>\n",
       "      <td>0.625842</td>\n",
       "      <td>The detail of ROHC is described in \"draft-ietf-rohc-rtp-00.txt (29 June 2000)\", and in the successive \"draft-ietf-rohc-rtp-01.txt (14 July 2000)\".</td>\n",
       "      <td>Terminology   The key words \"MUST\", \"MUST NOT\", \"REQUIRED\", \"SHALL\", \"SHALL NOT\",   \"SHOULD\", \"SHOULD NOT\", \"RECOMMENDED\", \"MAY\", and \"OPTIONAL\" in this   document are to be interpreted as described in RFC 2119.</td>\n",
       "    </tr>\n",
       "    <tr>\n",
       "      <th>1</th>\n",
       "      <td>0.565774</td>\n",
       "      <td>Also, the error detector 902 notifies the detection result to the decompression error detection result storage 905.</td>\n",
       "      <td>Error detection mechanism.</td>\n",
       "    </tr>\n",
       "    <tr>\n",
       "      <th>2</th>\n",
       "      <td>0.560566</td>\n",
       "      <td>The packet output unit 1001 outputs the headerdecompressed packet.</td>\n",
       "      <td>Packet      Generally, a unit of transmission and reception (protocol data      unit).</td>\n",
       "    </tr>\n",
       "    <tr>\n",
       "      <th>3</th>\n",
       "      <td>0.518191</td>\n",
       "      <td>The CRC provider 602 computes a CRC for the entire packet, and provides the CRC to the packet.</td>\n",
       "      <td>When the compressed header   contains a CRC, the CRC will catch the bad header with a probability   dependent on the size of the CRC.</td>\n",
       "    </tr>\n",
       "    <tr>\n",
       "      <th>4</th>\n",
       "      <td>0.511764</td>\n",
       "      <td>Jacobson and defined in RFC 1144 and RFC2508 has been known.</td>\n",
       "      <td>RFC 1144.</td>\n",
       "    </tr>\n",
       "    <tr>\n",
       "      <th>5</th>\n",
       "      <td>0.482702</td>\n",
       "      <td>[0061] The decompression error detection result storage 905 stores the detection results of the error detector 902, that is, the number of errors R for preceding W packets.</td>\n",
       "      <td>Error detection mechanism.</td>\n",
       "    </tr>\n",
       "    <tr>\n",
       "      <th>6</th>\n",
       "      <td>0.476711</td>\n",
       "      <td>[0061] The decompression error detection result storage 905 stores the detection results of the error detector 902, that is, the number of errors R for preceding W packets.</td>\n",
       "      <td>Standards Track                    [Page 10]RFC 3095               Robust Header Compression               July 2001   Error detection      Detection of errors.</td>\n",
       "    </tr>\n",
       "    <tr>\n",
       "      <th>7</th>\n",
       "      <td>0.471474</td>\n",
       "      <td>[0046] The successive error counter 705 counts the number of successive errors X based on the error detection results in the error detector 702.</td>\n",
       "      <td>Error detection mechanism.</td>\n",
       "    </tr>\n",
       "    <tr>\n",
       "      <th>8</th>\n",
       "      <td>0.467273</td>\n",
       "      <td>The CRC provider 602 provides the received packet with a CRC for output to the header compressor 603.</td>\n",
       "      <td>When the compressed header   contains a CRC, the CRC will catch the bad header with a probability   dependent on the size of the CRC.</td>\n",
       "    </tr>\n",
       "    <tr>\n",
       "      <th>9</th>\n",
       "      <td>0.461116</td>\n",
       "      <td>The successive error counter 705 counts the number of successive decompression errors detected by the error detector 702.</td>\n",
       "      <td>Residual error      Error introduced during transmission and not detected by lower-      layer error detection schemes.Bormann, et al.</td>\n",
       "    </tr>\n",
       "    <tr>\n",
       "      <th>10</th>\n",
       "      <td>0.460669</td>\n",
       "      <td>If no error is detected, successiveness is interrupted, and the error counter 705 stops counting.</td>\n",
       "      <td>Residual error      Error introduced during transmission and not detected by lower-      layer error detection schemes.Bormann, et al.</td>\n",
       "    </tr>\n",
       "    <tr>\n",
       "      <th>11</th>\n",
       "      <td>0.441614</td>\n",
       "      <td>Also, the error detector 902 notifies the detection result to the decompression error detection result storage 905.</td>\n",
       "      <td>Standards Track                    [Page 10]RFC 3095               Robust Header Compression               July 2001   Error detection      Detection of errors.</td>\n",
       "    </tr>\n",
       "    <tr>\n",
       "      <th>12</th>\n",
       "      <td>0.440762</td>\n",
       "      <td>BRIEF DESCRIPTION OF THE DRAWINGS [0030] FIG.</td>\n",
       "      <td>A detailed description of the requirements specified for ROHC may be   found in [REQ].Bormann, et al.</td>\n",
       "    </tr>\n",
       "    <tr>\n",
       "      <th>13</th>\n",
       "      <td>0.440752</td>\n",
       "      <td>Here, typically,thecompressedheaderisprovidedwithaCRC (Cyclic Redundancy Code) for determining whether the header-decompressed packet has any error or not.</td>\n",
       "      <td>CRC    Cyclic Redundancy Check.</td>\n",
       "    </tr>\n",
       "    <tr>\n",
       "      <th>14</th>\n",
       "      <td>0.431422</td>\n",
       "      <td>3. [0049] FIG.</td>\n",
       "      <td>Standards Track                     [Page 3]RFC 3095               Robust Header Compression               July 2001   5.6.2.</td>\n",
       "    </tr>\n",
       "    <tr>\n",
       "      <th>15</th>\n",
       "      <td>0.425813</td>\n",
       "      <td>[0025] The counter/storage includes a successive error counter and a successive decompression success counter.Thesuccessiveerrorcountercountsandstores the number of times X the packet having the error detected by the error detector successively appeared.</td>\n",
       "      <td>Residual error      Error introduced during transmission and not detected by lower-      layer error detection schemes.Bormann, et al.</td>\n",
       "    </tr>\n",
       "    <tr>\n",
       "      <th>16</th>\n",
       "      <td>0.424360</td>\n",
       "      <td>If the header cannot be decompressed with its sequence number, update information of the reference information and the sequence number are included in the header.</td>\n",
       "      <td>Usually RTP Sequence Number.</td>\n",
       "    </tr>\n",
       "    <tr>\n",
       "      <th>17</th>\n",
       "      <td>0.415448</td>\n",
       "      <td>[0016] FIG.</td>\n",
       "      <td>Standards Track                    [Page 37]</td>\n",
       "    </tr>\n",
       "    <tr>\n",
       "      <th>18</th>\n",
       "      <td>0.412857</td>\n",
       "      <td>If the header cannot be decompressed with its sequence number, update information of the reference information and the sequence number are included in the header.</td>\n",
       "      <td>SN     (compressed) Sequence Number.</td>\n",
       "    </tr>\n",
       "  </tbody>\n",
       "</table>\n",
       "</div>"
      ],
      "text/plain": [
       "    similarity  \\\n",
       "0   0.625842     \n",
       "1   0.565774     \n",
       "2   0.560566     \n",
       "3   0.518191     \n",
       "4   0.511764     \n",
       "5   0.482702     \n",
       "6   0.476711     \n",
       "7   0.471474     \n",
       "8   0.467273     \n",
       "9   0.461116     \n",
       "10  0.460669     \n",
       "11  0.441614     \n",
       "12  0.440762     \n",
       "13  0.440752     \n",
       "14  0.431422     \n",
       "15  0.425813     \n",
       "16  0.424360     \n",
       "17  0.415448     \n",
       "18  0.412857     \n",
       "\n",
       "                                                                                                                                                                                                                                                             file2  \\\n",
       "0   The detail of ROHC is described in \"draft-ietf-rohc-rtp-00.txt (29 June 2000)\", and in the successive \"draft-ietf-rohc-rtp-01.txt (14 July 2000)\".                                                                                                               \n",
       "1   Also, the error detector 902 notifies the detection result to the decompression error detection result storage 905.                                                                                                                                              \n",
       "2   The packet output unit 1001 outputs the headerdecompressed packet.                                                                                                                                                                                               \n",
       "3   The CRC provider 602 computes a CRC for the entire packet, and provides the CRC to the packet.                                                                                                                                                                   \n",
       "4   Jacobson and defined in RFC 1144 and RFC2508 has been known.                                                                                                                                                                                                     \n",
       "5   [0061] The decompression error detection result storage 905 stores the detection results of the error detector 902, that is, the number of errors R for preceding W packets.                                                                                     \n",
       "6   [0061] The decompression error detection result storage 905 stores the detection results of the error detector 902, that is, the number of errors R for preceding W packets.                                                                                     \n",
       "7   [0046] The successive error counter 705 counts the number of successive errors X based on the error detection results in the error detector 702.                                                                                                                 \n",
       "8   The CRC provider 602 provides the received packet with a CRC for output to the header compressor 603.                                                                                                                                                            \n",
       "9   The successive error counter 705 counts the number of successive decompression errors detected by the error detector 702.                                                                                                                                        \n",
       "10  If no error is detected, successiveness is interrupted, and the error counter 705 stops counting.                                                                                                                                                                \n",
       "11  Also, the error detector 902 notifies the detection result to the decompression error detection result storage 905.                                                                                                                                              \n",
       "12  BRIEF DESCRIPTION OF THE DRAWINGS [0030] FIG.                                                                                                                                                                                                                    \n",
       "13  Here, typically,thecompressedheaderisprovidedwithaCRC (Cyclic Redundancy Code) for determining whether the header-decompressed packet has any error or not.                                                                                                      \n",
       "14  3. [0049] FIG.                                                                                                                                                                                                                                                   \n",
       "15  [0025] The counter/storage includes a successive error counter and a successive decompression success counter.Thesuccessiveerrorcountercountsandstores the number of times X the packet having the error detected by the error detector successively appeared.   \n",
       "16  If the header cannot be decompressed with its sequence number, update information of the reference information and the sequence number are included in the header.                                                                                               \n",
       "17  [0016] FIG.                                                                                                                                                                                                                                                      \n",
       "18  If the header cannot be decompressed with its sequence number, update information of the reference information and the sequence number are included in the header.                                                                                               \n",
       "\n",
       "                                                                                                                                                                                                                   file  \n",
       "0   Terminology   The key words \"MUST\", \"MUST NOT\", \"REQUIRED\", \"SHALL\", \"SHALL NOT\",   \"SHOULD\", \"SHOULD NOT\", \"RECOMMENDED\", \"MAY\", and \"OPTIONAL\" in this   document are to be interpreted as described in RFC 2119.  \n",
       "1   Error detection mechanism.                                                                                                                                                                                           \n",
       "2   Packet      Generally, a unit of transmission and reception (protocol data      unit).                                                                                                                               \n",
       "3   When the compressed header   contains a CRC, the CRC will catch the bad header with a probability   dependent on the size of the CRC.                                                                                \n",
       "4   RFC 1144.                                                                                                                                                                                                            \n",
       "5   Error detection mechanism.                                                                                                                                                                                           \n",
       "6   Standards Track                    [Page 10]RFC 3095               Robust Header Compression               July 2001   Error detection      Detection of errors.                                                     \n",
       "7   Error detection mechanism.                                                                                                                                                                                           \n",
       "8   When the compressed header   contains a CRC, the CRC will catch the bad header with a probability   dependent on the size of the CRC.                                                                                \n",
       "9   Residual error      Error introduced during transmission and not detected by lower-      layer error detection schemes.Bormann, et al.                                                                               \n",
       "10  Residual error      Error introduced during transmission and not detected by lower-      layer error detection schemes.Bormann, et al.                                                                               \n",
       "11  Standards Track                    [Page 10]RFC 3095               Robust Header Compression               July 2001   Error detection      Detection of errors.                                                     \n",
       "12  A detailed description of the requirements specified for ROHC may be   found in [REQ].Bormann, et al.                                                                                                                \n",
       "13  CRC    Cyclic Redundancy Check.                                                                                                                                                                                      \n",
       "14  Standards Track                     [Page 3]RFC 3095               Robust Header Compression               July 2001   5.6.2.                                                                                        \n",
       "15  Residual error      Error introduced during transmission and not detected by lower-      layer error detection schemes.Bormann, et al.                                                                               \n",
       "16  Usually RTP Sequence Number.                                                                                                                                                                                         \n",
       "17  Standards Track                    [Page 37]                                                                                                                                                                         \n",
       "18  SN     (compressed) Sequence Number.                                                                                                                                                                                 "
      ]
     },
     "execution_count": 36,
     "metadata": {},
     "output_type": "execute_result"
    }
   ],
   "source": [
    "pd.set_option('display.max_colwidth', -1)\n",
    "df[['similarity','file2','file']]"
   ]
  },
  {
   "cell_type": "code",
   "execution_count": null,
   "metadata": {},
   "outputs": [],
   "source": []
  }
 ],
 "metadata": {
  "file_extension": ".py",
  "kernelspec": {
   "display_name": "Python 3",
   "language": "python",
   "name": "python3"
  },
  "language_info": {
   "codemirror_mode": {
    "name": "ipython",
    "version": 3
   },
   "file_extension": ".py",
   "mimetype": "text/x-python",
   "name": "python",
   "nbconvert_exporter": "python",
   "pygments_lexer": "ipython3",
   "version": "3.7.3"
  },
  "mimetype": "text/x-python",
  "name": "python",
  "npconvert_exporter": "python",
  "pygments_lexer": "ipython3",
  "version": 3
 },
 "nbformat": 4,
 "nbformat_minor": 2
}
