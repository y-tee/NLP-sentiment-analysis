{
 "cells": [
  {
   "cell_type": "code",
   "execution_count": 1,
   "metadata": {},
   "outputs": [
    {
     "name": "stdout",
     "output_type": "stream",
     "text": [
      "Number of documents: 785\n"
     ]
    }
   ],
   "source": [
    "import nltk\n",
    "import gensim\n",
    "from nltk.tokenize import word_tokenize, sent_tokenize\n",
    "import numpy as np\n",
    "\n",
    "file_docs = []\n",
    "\n",
    "with open ('pdf2.txt') as f:\n",
    "    for sentence in gensim.summarization.textcleaner.get_sentences(f.read()):\n",
    "        file_docs.append(sentence)\n",
    "\n",
    "print(\"Number of documents:\",len(file_docs))"
   ]
  },
  {
   "cell_type": "code",
   "execution_count": 17,
   "metadata": {},
   "outputs": [
    {
     "name": "stdout",
     "output_type": "stream",
     "text": [
      "Number of documents: 269\n"
     ]
    }
   ],
   "source": [
    "file2_docs = []\n",
    "\n",
    "with open ('pdf1.txt') as f:\n",
    "    text=f.read()\n",
    "    text = text.replace(\"\\n\", \"\")\n",
    "    file2_docs=gensim.summarization.textcleaner.split_sentences(text)\n",
    "    \n",
    "print(\"Number of documents:\",len(file2_docs))"
   ]
  },
  {
   "cell_type": "code",
   "execution_count": 19,
   "metadata": {},
   "outputs": [],
   "source": [
    "with open('nltk_eng_stopwords.txt', 'r') as f:\n",
    "    stopwords = [line.strip() for line in f]"
   ]
  },
  {
   "cell_type": "code",
   "execution_count": 29,
   "metadata": {},
   "outputs": [],
   "source": [
    "prepros1 = [[w.lower() for w in word_tokenize(text)] for text in file_docs if text not in stopwords]\n",
    "prepros2 = [[w.lower() for w in word_tokenize(text)] for text in file2_docs if text not in stopwords]"
   ]
  },
  {
   "cell_type": "code",
   "execution_count": 31,
   "metadata": {},
   "outputs": [],
   "source": [
    "import gensim.downloader as api\n",
    "from gensim.corpora import Dictionary\n",
    "from gensim.models import TfidfModel\n",
    "from gensim.models import WordEmbeddingSimilarityIndex\n",
    "from gensim.similarities import SparseTermSimilarityMatrix\n",
    "from gensim.similarities import SoftCosineSimilarity"
   ]
  },
  {
   "cell_type": "code",
   "execution_count": 32,
   "metadata": {},
   "outputs": [],
   "source": [
    "# Load the model: this is a big file, can take a while to download and open\n",
    "glove = api.load(\"glove-wiki-gigaword-50\")    \n",
    "similarity_index = WordEmbeddingSimilarityIndex(glove)"
   ]
  },
  {
   "cell_type": "code",
   "execution_count": 33,
   "metadata": {},
   "outputs": [],
   "source": [
    "# Build the term dictionary, TF-idf model\n",
    "dictionary = Dictionary(prepros1+prepros2)\n",
    "tfidf = TfidfModel(dictionary=dictionary)\n",
    "\n",
    "# Create the term similarity matrix.  \n",
    "similarity_matrix = SparseTermSimilarityMatrix(similarity_index, dictionary, tfidf)"
   ]
  },
  {
   "cell_type": "code",
   "execution_count": 35,
   "metadata": {},
   "outputs": [],
   "source": [
    "query_tf = tfidf[[dictionary.doc2bow(document) for document in prepros2]]\n",
    "\n",
    "sim = SoftCosineSimilarity(\n",
    "            tfidf[[dictionary.doc2bow(document) for document in prepros1]],\n",
    "            similarity_matrix)\n",
    "\n",
    "doc_similarity_scores = sim[query_tf]"
   ]
  },
  {
   "cell_type": "code",
   "execution_count": 36,
   "metadata": {
    "collapsed": true
   },
   "outputs": [
    {
     "data": {
      "text/plain": [
       "array([[0.32331762, 0.14282295, 0.13675347, ..., 0.21774076, 0.46133253,\n",
       "        0.24338405],\n",
       "       [0.3573962 , 0.13500562, 0.1060555 , ..., 0.21132448, 0.44006768,\n",
       "        0.10015951],\n",
       "       [0.24968882, 0.06982826, 0.07999936, ..., 0.2791498 , 0.33459347,\n",
       "        0.03054112],\n",
       "       ...,\n",
       "       [0.1690618 , 0.1367577 , 0.15195134, ..., 0.1640106 , 0.4272504 ,\n",
       "        0.26984048],\n",
       "       [0.2702787 , 0.15113078, 0.11654562, ..., 0.2910969 , 0.4542206 ,\n",
       "        0.10064195],\n",
       "       [0.50038916, 0.15642236, 0.10713472, ..., 0.18716566, 0.43223143,\n",
       "        0.28897578]], dtype=float32)"
      ]
     },
     "execution_count": 36,
     "metadata": {},
     "output_type": "execute_result"
    }
   ],
   "source": [
    "doc_similarity_scores"
   ]
  },
  {
   "cell_type": "code",
   "execution_count": 37,
   "metadata": {},
   "outputs": [],
   "source": [
    "max_list=[]\n",
    "i=1\n",
    "N=doc_similarity_scores.copy()\n",
    "\n",
    "while i<20:\n",
    "    max_value, max_index = max(((x, (i, j)) for i, row in enumerate(N) for j, x in enumerate(row)))\n",
    "    file2=file2_docs[max_index[0]]\n",
    "    file1=file_docs[max_index[1]]\n",
    "    tup=(max_value, max_index,file2,file1)\n",
    "    max_list.append(tup)\n",
    "    N = [[0 if j==max_value else j for j in i] for i in N]\n",
    "    i=i+1"
   ]
  },
  {
   "cell_type": "code",
   "execution_count": 38,
   "metadata": {},
   "outputs": [],
   "source": [
    "import pandas as pd\n",
    "df=pd.DataFrame(max_list,columns=['similarity','location','file2','file1'])"
   ]
  },
  {
   "cell_type": "code",
   "execution_count": 41,
   "metadata": {},
   "outputs": [
    {
     "data": {
      "text/html": [
       "<div>\n",
       "<style scoped>\n",
       "    .dataframe tbody tr th:only-of-type {\n",
       "        vertical-align: middle;\n",
       "    }\n",
       "\n",
       "    .dataframe tbody tr th {\n",
       "        vertical-align: top;\n",
       "    }\n",
       "\n",
       "    .dataframe thead th {\n",
       "        text-align: right;\n",
       "    }\n",
       "</style>\n",
       "<table border=\"1\" class=\"dataframe\">\n",
       "  <thead>\n",
       "    <tr style=\"text-align: right;\">\n",
       "      <th></th>\n",
       "      <th>similarity</th>\n",
       "      <th>file2</th>\n",
       "      <th>file1</th>\n",
       "    </tr>\n",
       "  </thead>\n",
       "  <tbody>\n",
       "    <tr>\n",
       "      <th>0</th>\n",
       "      <td>0.793777</td>\n",
       "      <td>In this header compression, if the header can be decompressed with its sequence number, the reference information is not updated, and only the sequence number is included in the header.</td>\n",
       "      <td>Each header in a string can be      compressed by representing it with a ROHC header which essentially      only carries an encoded sequence number.</td>\n",
       "    </tr>\n",
       "    <tr>\n",
       "      <th>1</th>\n",
       "      <td>0.763338</td>\n",
       "      <td>Also, even if one decompression error is detected, it is impossible to tell the cause of the decompression error, that is, either noise or erroneous reference information.</td>\n",
       "      <td>If links were   made (almost) error free, the system might not be able to support a   sufficiently large number of users per cell and might thus be   economically infeasible.</td>\n",
       "    </tr>\n",
       "    <tr>\n",
       "      <th>2</th>\n",
       "      <td>0.741349</td>\n",
       "      <td>H'1 = H1* (1).</td>\n",
       "      <td>3) k is calculated as            k = ceiling(log2(2 * J + 1),         where J = Max_Jitter_BC + Max_Jitter_CD + 2.</td>\n",
       "    </tr>\n",
       "    <tr>\n",
       "      <th>3</th>\n",
       "      <td>0.739527</td>\n",
       "      <td>In this header compression, if the header can be decompressed with its sequence number, the reference information is not updated, and only the sequence number is included in the header.</td>\n",
       "      <td>String      A sequence of headers in which the values of all fields being      compressed change according to a pattern which is fixed with      respect to a sequence number.</td>\n",
       "    </tr>\n",
       "    <tr>\n",
       "      <th>4</th>\n",
       "      <td>0.737392</td>\n",
       "      <td>[0018] In some cases, however, the header is not regarded as having an error even if it has not been correctly decompressed, and therefore the packet is not discarded.</td>\n",
       "      <td>While the latter is true,   the kind of loss induced by CRTP is difficult to deal with.</td>\n",
       "    </tr>\n",
       "    <tr>\n",
       "      <th>5</th>\n",
       "      <td>0.736196</td>\n",
       "      <td>If such increase in size happens quite often, the transmission path is substantially decreased in effective speed.</td>\n",
       "      <td>The compression efficiency is      determined by how much the header sizes are reduced by the      compression scheme.</td>\n",
       "    </tr>\n",
       "    <tr>\n",
       "      <th>6</th>\n",
       "      <td>0.733487</td>\n",
       "      <td>11.</td>\n",
       "      <td>Standards Track                    [Page 28]RFC 3095               Robust Header Compression               July 2001   cover 20 ms.</td>\n",
       "    </tr>\n",
       "    <tr>\n",
       "      <th>7</th>\n",
       "      <td>0.720523</td>\n",
       "      <td>Also, even if one decompression error is detected, it is impossible to tell the cause of the decompression error, that is, either noise or erroneous reference information.</td>\n",
       "      <td>It seems reasonable to believe that in the years to come,   IP will become a commonly used way to carry telephony.</td>\n",
       "    </tr>\n",
       "    <tr>\n",
       "      <th>8</th>\n",
       "      <td>0.716721</td>\n",
       "      <td>How to compress the header will be described later.</td>\n",
       "      <td>While the latter is true,   the kind of loss induced by CRTP is difficult to deal with.</td>\n",
       "    </tr>\n",
       "    <tr>\n",
       "      <th>9</th>\n",
       "      <td>0.715943</td>\n",
       "      <td>If the header cannot be decompressed with its sequence number, update information of the reference information and the sequence number are included in the header.</td>\n",
       "      <td>String      A sequence of headers in which the values of all fields being      compressed change according to a pattern which is fixed with      respect to a sequence number.</td>\n",
       "    </tr>\n",
       "    <tr>\n",
       "      <th>10</th>\n",
       "      <td>0.714263</td>\n",
       "      <td>Also, even if one decompression error is detected, it is impossible to tell the cause of the decompression error, that is, either noise or erroneous reference information.</td>\n",
       "      <td>One might also argue that the speech codecs should be able to deal   with the kind of packet loss induced by CRTP, in particular since the   speech codecs probably must be able to deal with packet loss anyway   if the RTP stream crosses the Internet.</td>\n",
       "    </tr>\n",
       "    <tr>\n",
       "      <th>11</th>\n",
       "      <td>0.700885</td>\n",
       "      <td>In this scheme, among the fields of the header included in the packet, transmitted are only any field changed in value from the one included in the previous packet.</td>\n",
       "      <td>This document actually defines four ROHC profiles: One uncompressed   profile, the main ROHC RTP compression profile, and two variants of   this profile for compression of packets with header chains that endBormann, et al.</td>\n",
       "    </tr>\n",
       "    <tr>\n",
       "      <th>12</th>\n",
       "      <td>0.698490</td>\n",
       "      <td>6 includes a wireless 10 15 20 25 30 35 40 45 50 (10 July 2000), \"Re: AW: [rohc] SO packets with keywords\", available under URL: http://www.cdt.luth.se/rohc/msg0059.html, which discloses that a refresh procedure is triggered if two consecutive CRCs indicate an error.</td>\n",
       "      <td>A packet will   then, in addition to link layer framing, have an IP [IPv4] header (20   octets), a UDP [UDP] header (8 octets), and an RTP header (12 octets)   for a total of 40 octets.</td>\n",
       "    </tr>\n",
       "    <tr>\n",
       "      <th>13</th>\n",
       "      <td>0.694590</td>\n",
       "      <td>The detail of ROHC is described in \"draft-ietf-rohc-rtp-00.txt (29 June 2000)\", and in the successive \"draft-ietf-rohc-rtp-01.txt (14 July 2000)\".</td>\n",
       "      <td>Standards Track                    [Page 28]RFC 3095               Robust Header Compression               July 2001   cover 20 ms.</td>\n",
       "    </tr>\n",
       "    <tr>\n",
       "      <th>14</th>\n",
       "      <td>0.689836</td>\n",
       "      <td>[0010] For example, assume that the RTP timestamp of the header to be transmitted is increased by 50, but, EP 1 191 760 B1 5 55 4  3  4 EP 1 191 760 B1 5 55 5 at the time of transmission of the data D3, such increase is changed to by 100.</td>\n",
       "      <td>A packet will   then, in addition to link layer framing, have an IP [IPv4] header (20   octets), a UDP [UDP] header (8 octets), and an RTP header (12 octets)   for a total of 40 octets.</td>\n",
       "    </tr>\n",
       "    <tr>\n",
       "      <th>15</th>\n",
       "      <td>0.689279</td>\n",
       "      <td>In this header compression, if the header can be decompressed with its sequence number, the reference information is not updated, and only the sequence number is included in the header.</td>\n",
       "      <td>This document actually defines four ROHC profiles: One uncompressed   profile, the main ROHC RTP compression profile, and two variants of   this profile for compression of packets with header chains that endBormann, et al.</td>\n",
       "    </tr>\n",
       "    <tr>\n",
       "      <th>16</th>\n",
       "      <td>0.676309</td>\n",
       "      <td>If the header cannot be decompressed with its sequence number, update information of the reference information and the sequence number are included in the header.</td>\n",
       "      <td>Each header in a string can be      compressed by representing it with a ROHC header which essentially      only carries an encoded sequence number.</td>\n",
       "    </tr>\n",
       "    <tr>\n",
       "      <th>17</th>\n",
       "      <td>0.676189</td>\n",
       "      <td>Thus, the receiving side finds the sequence number by using an equation L*16 + (received sequence number), where L is incremented by 1 whenever the received sequence number is changed from the maximum value (here, 15) to the minimum value (here, 0).</td>\n",
       "      <td>Standards Track                    [Page 26]RFC 3095               Robust Header Compression               July 2001   1) The compressor (decompressor) always uses v_ref_c (v_ref_d), the      last value that has been compressed (decompressed), as v_ref;   2) When compressing a value v, the compressor finds the minimum value      of k such that v falls into the interval f(v_ref_c, k).</td>\n",
       "    </tr>\n",
       "    <tr>\n",
       "      <th>18</th>\n",
       "      <td>0.674598</td>\n",
       "      <td>For EP 1 191 760 B1 5 55 19  13 14 example, if, among received 50 packets, 45 packets have errors, that is, W = 50 and R ^ 45, the update requestunit907determinesthatthereferenceinformation has errors equal to or more than a predetermined value, and requests the transmitting side to update the reference information.</td>\n",
       "      <td>A packet will   then, in addition to link layer framing, have an IP [IPv4] header (20   octets), a UDP [UDP] header (8 octets), and an RTP header (12 octets)   for a total of 40 octets.</td>\n",
       "    </tr>\n",
       "  </tbody>\n",
       "</table>\n",
       "</div>"
      ],
      "text/plain": [
       "    similarity  \\\n",
       "0   0.793777     \n",
       "1   0.763338     \n",
       "2   0.741349     \n",
       "3   0.739527     \n",
       "4   0.737392     \n",
       "5   0.736196     \n",
       "6   0.733487     \n",
       "7   0.720523     \n",
       "8   0.716721     \n",
       "9   0.715943     \n",
       "10  0.714263     \n",
       "11  0.700885     \n",
       "12  0.698490     \n",
       "13  0.694590     \n",
       "14  0.689836     \n",
       "15  0.689279     \n",
       "16  0.676309     \n",
       "17  0.676189     \n",
       "18  0.674598     \n",
       "\n",
       "                                                                                                                                                                                                                                                                                                                            file2  \\\n",
       "0   In this header compression, if the header can be decompressed with its sequence number, the reference information is not updated, and only the sequence number is included in the header.                                                                                                                                       \n",
       "1   Also, even if one decompression error is detected, it is impossible to tell the cause of the decompression error, that is, either noise or erroneous reference information.                                                                                                                                                     \n",
       "2   H'1 = H1* (1).                                                                                                                                                                                                                                                                                                                  \n",
       "3   In this header compression, if the header can be decompressed with its sequence number, the reference information is not updated, and only the sequence number is included in the header.                                                                                                                                       \n",
       "4   [0018] In some cases, however, the header is not regarded as having an error even if it has not been correctly decompressed, and therefore the packet is not discarded.                                                                                                                                                         \n",
       "5   If such increase in size happens quite often, the transmission path is substantially decreased in effective speed.                                                                                                                                                                                                              \n",
       "6   11.                                                                                                                                                                                                                                                                                                                             \n",
       "7   Also, even if one decompression error is detected, it is impossible to tell the cause of the decompression error, that is, either noise or erroneous reference information.                                                                                                                                                     \n",
       "8   How to compress the header will be described later.                                                                                                                                                                                                                                                                             \n",
       "9   If the header cannot be decompressed with its sequence number, update information of the reference information and the sequence number are included in the header.                                                                                                                                                              \n",
       "10  Also, even if one decompression error is detected, it is impossible to tell the cause of the decompression error, that is, either noise or erroneous reference information.                                                                                                                                                     \n",
       "11  In this scheme, among the fields of the header included in the packet, transmitted are only any field changed in value from the one included in the previous packet.                                                                                                                                                            \n",
       "12  6 includes a wireless 10 15 20 25 30 35 40 45 50 (10 July 2000), \"Re: AW: [rohc] SO packets with keywords\", available under URL: http://www.cdt.luth.se/rohc/msg0059.html, which discloses that a refresh procedure is triggered if two consecutive CRCs indicate an error.                                                     \n",
       "13  The detail of ROHC is described in \"draft-ietf-rohc-rtp-00.txt (29 June 2000)\", and in the successive \"draft-ietf-rohc-rtp-01.txt (14 July 2000)\".                                                                                                                                                                              \n",
       "14  [0010] For example, assume that the RTP timestamp of the header to be transmitted is increased by 50, but, EP 1 191 760 B1 5 55 4  3  4 EP 1 191 760 B1 5 55 5 at the time of transmission of the data D3, such increase is changed to by 100.                                                                                  \n",
       "15  In this header compression, if the header can be decompressed with its sequence number, the reference information is not updated, and only the sequence number is included in the header.                                                                                                                                       \n",
       "16  If the header cannot be decompressed with its sequence number, update information of the reference information and the sequence number are included in the header.                                                                                                                                                              \n",
       "17  Thus, the receiving side finds the sequence number by using an equation L*16 + (received sequence number), where L is incremented by 1 whenever the received sequence number is changed from the maximum value (here, 15) to the minimum value (here, 0).                                                                       \n",
       "18  For EP 1 191 760 B1 5 55 19  13 14 example, if, among received 50 packets, 45 packets have errors, that is, W = 50 and R ^ 45, the update requestunit907determinesthatthereferenceinformation has errors equal to or more than a predetermined value, and requests the transmitting side to update the reference information.   \n",
       "\n",
       "                                                                                                                                                                                                                                                                                                                                                                                                 file1  \n",
       "0   Each header in a string can be      compressed by representing it with a ROHC header which essentially      only carries an encoded sequence number.                                                                                                                                                                                                                                                \n",
       "1   If links were   made (almost) error free, the system might not be able to support a   sufficiently large number of users per cell and might thus be   economically infeasible.                                                                                                                                                                                                                      \n",
       "2   3) k is calculated as            k = ceiling(log2(2 * J + 1),         where J = Max_Jitter_BC + Max_Jitter_CD + 2.                                                                                                                                                                                                                                                                                  \n",
       "3   String      A sequence of headers in which the values of all fields being      compressed change according to a pattern which is fixed with      respect to a sequence number.                                                                                                                                                                                                                      \n",
       "4   While the latter is true,   the kind of loss induced by CRTP is difficult to deal with.                                                                                                                                                                                                                                                                                                             \n",
       "5   The compression efficiency is      determined by how much the header sizes are reduced by the      compression scheme.                                                                                                                                                                                                                                                                              \n",
       "6   Standards Track                    [Page 28]RFC 3095               Robust Header Compression               July 2001   cover 20 ms.                                                                                                                                                                                                                                                                 \n",
       "7   It seems reasonable to believe that in the years to come,   IP will become a commonly used way to carry telephony.                                                                                                                                                                                                                                                                                  \n",
       "8   While the latter is true,   the kind of loss induced by CRTP is difficult to deal with.                                                                                                                                                                                                                                                                                                             \n",
       "9   String      A sequence of headers in which the values of all fields being      compressed change according to a pattern which is fixed with      respect to a sequence number.                                                                                                                                                                                                                      \n",
       "10  One might also argue that the speech codecs should be able to deal   with the kind of packet loss induced by CRTP, in particular since the   speech codecs probably must be able to deal with packet loss anyway   if the RTP stream crosses the Internet.                                                                                                                                          \n",
       "11  This document actually defines four ROHC profiles: One uncompressed   profile, the main ROHC RTP compression profile, and two variants of   this profile for compression of packets with header chains that endBormann, et al.                                                                                                                                                                      \n",
       "12  A packet will   then, in addition to link layer framing, have an IP [IPv4] header (20   octets), a UDP [UDP] header (8 octets), and an RTP header (12 octets)   for a total of 40 octets.                                                                                                                                                                                                           \n",
       "13  Standards Track                    [Page 28]RFC 3095               Robust Header Compression               July 2001   cover 20 ms.                                                                                                                                                                                                                                                                 \n",
       "14  A packet will   then, in addition to link layer framing, have an IP [IPv4] header (20   octets), a UDP [UDP] header (8 octets), and an RTP header (12 octets)   for a total of 40 octets.                                                                                                                                                                                                           \n",
       "15  This document actually defines four ROHC profiles: One uncompressed   profile, the main ROHC RTP compression profile, and two variants of   this profile for compression of packets with header chains that endBormann, et al.                                                                                                                                                                      \n",
       "16  Each header in a string can be      compressed by representing it with a ROHC header which essentially      only carries an encoded sequence number.                                                                                                                                                                                                                                                \n",
       "17  Standards Track                    [Page 26]RFC 3095               Robust Header Compression               July 2001   1) The compressor (decompressor) always uses v_ref_c (v_ref_d), the      last value that has been compressed (decompressed), as v_ref;   2) When compressing a value v, the compressor finds the minimum value      of k such that v falls into the interval f(v_ref_c, k).  \n",
       "18  A packet will   then, in addition to link layer framing, have an IP [IPv4] header (20   octets), a UDP [UDP] header (8 octets), and an RTP header (12 octets)   for a total of 40 octets.                                                                                                                                                                                                           "
      ]
     },
     "execution_count": 41,
     "metadata": {},
     "output_type": "execute_result"
    }
   ],
   "source": [
    "pd.set_option('display.max_colwidth', -1)\n",
    "df[['similarity','file2','file1']]"
   ]
  },
  {
   "cell_type": "code",
   "execution_count": null,
   "metadata": {},
   "outputs": [],
   "source": []
  }
 ],
 "metadata": {
  "kernelspec": {
   "display_name": "Python 3",
   "language": "python",
   "name": "python3"
  },
  "language_info": {
   "codemirror_mode": {
    "name": "ipython",
    "version": 3
   },
   "file_extension": ".py",
   "mimetype": "text/x-python",
   "name": "python",
   "nbconvert_exporter": "python",
   "pygments_lexer": "ipython3",
   "version": "3.7.3"
  }
 },
 "nbformat": 4,
 "nbformat_minor": 2
}
